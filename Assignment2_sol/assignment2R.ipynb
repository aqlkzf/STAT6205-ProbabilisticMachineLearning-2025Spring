{
 "cells": [
  {
   "cell_type": "code",
   "execution_count": 1,
   "metadata": {
    "vscode": {
     "languageId": "r"
    }
   },
   "outputs": [
    {
     "name": "stderr",
     "output_type": "stream",
     "text": [
      "\n",
      "Attaching package: ‘dplyr’\n",
      "\n",
      "\n",
      "The following objects are masked from ‘package:stats’:\n",
      "\n",
      "    filter, lag\n",
      "\n",
      "\n",
      "The following objects are masked from ‘package:base’:\n",
      "\n",
      "    intersect, setdiff, setequal, union\n",
      "\n",
      "\n",
      "Loading required package: gridExtra\n",
      "\n",
      "Warning message:\n",
      "“package ‘gridExtra’ was built under R version 4.4.2”\n",
      "\n",
      "Attaching package: ‘gridExtra’\n",
      "\n",
      "\n",
      "The following object is masked from ‘package:dplyr’:\n",
      "\n",
      "    combine\n",
      "\n",
      "\n",
      "Loading required package: mvtnorm\n",
      "\n"
     ]
    }
   ],
   "source": [
    "library(ggplot2)\n",
    "library(dplyr)\n",
    "library(readr)\n",
    "library(progress)\n",
    "if (!require(\"gridExtra\")) {\n",
    "  install.packages(\"gridExtra\")\n",
    "}\n",
    "# if not install mvtnorm, install it\n",
    "if (!require(\"mvtnorm\")) {\n",
    "  install.packages(\"mvtnorm\")\n",
    "}\n",
    "library(mvtnorm)"
   ]
  },
  {
   "cell_type": "code",
   "execution_count": 2,
   "metadata": {
    "vscode": {
     "languageId": "r"
    }
   },
   "outputs": [],
   "source": [
    "# create the output directory\n",
    "base_path <- \"./outputR_logOdds\"\n",
    "if (!dir.exists(base_path)) {\n",
    "  dir.create(base_path, recursive = TRUE)\n",
    "}"
   ]
  },
  {
   "cell_type": "code",
   "execution_count": 3,
   "metadata": {
    "vscode": {
     "languageId": "r"
    }
   },
   "outputs": [],
   "source": [
    "\n",
    "# fix the random seed, ensuring reproducibility\n",
    "set.seed(1)\n",
    "\n",
    "# set the parameters\n",
    "sigma <- 2"
   ]
  },
  {
   "cell_type": "code",
   "execution_count": 4,
   "metadata": {
    "vscode": {
     "languageId": "r"
    }
   },
   "outputs": [
    {
     "name": "stderr",
     "output_type": "stream",
     "text": [
      "\u001b[1mRows: \u001b[22m\u001b[34m128\u001b[39m \u001b[1mColumns: \u001b[22m\u001b[34m128\u001b[39m\n",
      "\u001b[36m──\u001b[39m \u001b[1mColumn specification\u001b[22m \u001b[36m────────────────────────────────────────────────────────\u001b[39m\n",
      "\u001b[1mDelimiter:\u001b[22m \",\"\n",
      "\u001b[32mdbl\u001b[39m (128): X1, X2, X3, X4, X5, X6, X7, X8, X9, X10, X11, X12, X13, X14, X15,...\n",
      "\n",
      "\u001b[36mℹ\u001b[39m Use `spec()` to retrieve the full column specification for this data.\n",
      "\u001b[36mℹ\u001b[39m Specify the column types or set `show_col_types = FALSE` to quiet this message.\n"
     ]
    }
   ],
   "source": [
    "# read and preprocess the image\n",
    "img <- read_csv(\"https://raw.githubusercontent.com/aqlkzf/STAT6205-ProbabilisticMachineLearning-2025Spring/refs/heads/main/Assignment2/letterA.csv\", \n",
    "                col_names = FALSE)\n",
    "img <- as.matrix(img)\n",
    "mean_val <- mean(img)\n",
    "img2 <- ifelse(img >= mean_val, 1, -1)\n",
    "# add noise to the image\n",
    "y <- img2 + sigma * matrix(rnorm(length(img2)), nrow = nrow(img2), ncol = ncol(img2))"
   ]
  },
  {
   "cell_type": "code",
   "execution_count": 5,
   "metadata": {
    "vscode": {
     "languageId": "r"
    }
   },
   "outputs": [
    {
     "name": "stderr",
     "output_type": "stream",
     "text": [
      "\u001b[1mRows: \u001b[22m\u001b[34m128\u001b[39m \u001b[1mColumns: \u001b[22m\u001b[34m128\u001b[39m\n",
      "\u001b[36m──\u001b[39m \u001b[1mColumn specification\u001b[22m \u001b[36m────────────────────────────────────────────────────────\u001b[39m\n",
      "\u001b[1mDelimiter:\u001b[22m \",\"\n",
      "\u001b[32mdbl\u001b[39m (128): 0, 1, 2, 3, 4, 5, 6, 7, 8, 9, 10, 11, 12, 13, 14, 15, 16, 17, 18,...\n",
      "\n",
      "\u001b[36mℹ\u001b[39m Use `spec()` to retrieve the full column specification for this data.\n",
      "\u001b[36mℹ\u001b[39m Specify the column types or set `show_col_types = FALSE` to quiet this message.\n"
     ]
    }
   ],
   "source": [
    "# load beta_s (logOdds) data\n",
    "beta_s <- read_csv(\"https://github.com/aqlkzf/STAT6205-ProbabilisticMachineLearning-2025Spring/raw/refs/heads/main/Assignment2/beta_s.csv\")\n",
    "logOdds <- as.matrix(beta_s)"
   ]
  },
  {
   "cell_type": "code",
   "execution_count": 6,
   "metadata": {
    "vscode": {
     "languageId": "r"
    }
   },
   "outputs": [
    {
     "data": {
      "text/html": [
       "<strong>pdf:</strong> 2"
      ],
      "text/latex": [
       "\\textbf{pdf:} 2"
      ],
      "text/markdown": [
       "**pdf:** 2"
      ],
      "text/plain": [
       "pdf \n",
       "  2 "
      ]
     },
     "metadata": {},
     "output_type": "display_data"
    }
   ],
   "source": [
    "# plot the original binary image and the noisy image\n",
    "pdf(file.path(base_path, \"denoising.pdf\"), width = 10, height = 5)\n",
    "par(mfrow = c(1, 2))\n",
    "image(t(img2[nrow(img2):1,]), col = grey.colors(100), axes = FALSE, \n",
    "      main = \"Original Binary Image\")\n",
    "image(t(y[nrow(y):1,]), col = grey.colors(100), axes = FALSE, \n",
    "      main = \"Noisy Image\")\n",
    "dev.off()\n"
   ]
  },
  {
   "cell_type": "code",
   "execution_count": null,
   "metadata": {
    "vscode": {
     "languageId": "r"
    }
   },
   "outputs": [],
   "source": []
  },
  {
   "cell_type": "markdown",
   "metadata": {},
   "source": [
    " ## Sigmoid Function\n",
    "\n",
    " The sigmoid function is defined as:\n",
    "\n",
    " $$\\sigma(u) = \\frac{1}{1+e^{-u}}$$\n",
    "\n",
    " This function maps any real-valued number to a value between 0 and 1, which can be interpreted as a probability.\n",
    " In the context of the Ising model, it's used to compute the probability of a pixel taking the value +1.\n"
   ]
  },
  {
   "cell_type": "code",
   "execution_count": 7,
   "metadata": {
    "vscode": {
     "languageId": "r"
    }
   },
   "outputs": [],
   "source": [
    "# define sigmoid function\n",
    "sigmoid <- function(x) {\n",
    "  1 / (1 + exp(-x))\n",
    "}"
   ]
  },
  {
   "cell_type": "markdown",
   "metadata": {},
   "source": [
    "## Neighbor Summation\n",
    "\n",
    "This function calculates the total contribution of a pixel’s neighbors at position (ix, iy). It computes the neighbor sum using the formula:\n",
    "\n",
    "$$\\eta_s = \\sum_{t \\in \\text{Nbr}(s)} \\beta_{st} \\cdot z_t$$\n",
    "\n",
    "Where:\n",
    "- $\\text{Nbr}(s)$ represents the 4-connected neighbors (up, down, left, right) of pixel $s$\n",
    "- $\\beta_{st}$ is the interaction strength between pixels $s$ and $t$ (set to $J$ in this implementation)\n",
    "- $z_t$ is the current state of neighbor pixel $t$\n",
    "\n",
    "The function returns $2 \\cdot J \\cdot \\sum_{t \\in \\text{Nbr}(s)} z_t$, which is used in both Gibbs sampling and mean field updates.\n"
   ]
  },
  {
   "cell_type": "code",
   "execution_count": 8,
   "metadata": {
    "vscode": {
     "languageId": "r"
    }
   },
   "outputs": [],
   "source": [
    "# NeighborSum function: calculate the contribution of the pixel neighborhood (4-neighborhood) and multiply by the coefficient 2J\n",
    "NeighborSum <- function(ix, iy, X, J) {\n",
    "  wi <- 0\n",
    "  if (iy > 1) {\n",
    "    wi <- wi + X[iy - 1, ix]  # Top neighbor\n",
    "  }\n",
    "  if (iy < nrow(X)) {\n",
    "    wi <- wi + X[iy + 1, ix]  # Bottom neighbor\n",
    "  }\n",
    "  if (ix > 1) {\n",
    "    wi <- wi + X[iy, ix - 1]  # Left neighbor\n",
    "  }\n",
    "  if (ix < ncol(X)) {\n",
    "    wi <- wi + X[iy, ix + 1]  # Right neighbor\n",
    "  }\n",
    "  return(2 * J * wi)\n",
    "}\n",
    "\n"
   ]
  },
  {
   "cell_type": "markdown",
   "metadata": {
    "vscode": {
     "languageId": "r"
    }
   },
   "source": [
    "## Gibbs Sampling Algorithm\n",
    "\n",
    "Gibbs sampling is a Markov Chain Monte Carlo (MCMC) method used to sample from the posterior distribution in the Ising model.\n",
    "\n",
    "### Algorithm:\n",
    "1. **Initialization**:  \n",
    "   Set each pixel $z_s$ by thresholding the noisy image:\n",
    "   $$z_s^{(0)}=\\begin{cases}\n",
    "   +1 & \\text{if } \\text{img}_s \\geq \\text{mean(img)},\\\\\n",
    "   -1 & \\text{otherwise}.\n",
    "   \\end{cases}$$\n",
    "\n",
    "2. **Iterative Updates**:\n",
    "   - Randomly select a pixel $s \\in V$\n",
    "   - Compute the local field: $\\eta_s = \\sum_{t \\in \\text{Nbr}(s)} \\beta_{st} \\cdot z_t + \\beta_s$\n",
    "   - Compute the probability: $\\theta_s = \\sigma(2\\eta_s)$, where $\\sigma(u)=\\frac{1}{1+e^{-u}}$\n",
    "   - Sample the state of $s$ as:\n",
    "     $$z_s=\\begin{cases}\n",
    "     +1 & \\text{with probability }\\theta_s,\\\\\n",
    "     -1 & \\text{with probability }1-\\theta_s.\n",
    "     \\end{cases}$$\n",
    "\n",
    "3. **Output**:\n",
    "   - Return the final denoised binary image (each pixel is either +1 or -1).\n",
    "\n",
    "In this implementation:\n",
    "- $\\beta_{st} = J = 1$ for all neighboring pixels\n",
    "- $\\beta_s$ is provided by the logOdds values (precomputed)\n",
    "\n"
   ]
  },
  {
   "cell_type": "code",
   "execution_count": 9,
   "metadata": {
    "vscode": {
     "languageId": "r"
    }
   },
   "outputs": [],
   "source": [
    "# Gibbs sampling function\n",
    "gibbs <- function(img, J, niter = 10, pre_computed_logOdds = NULL) {\n",
    "  if (niter == 0) {\n",
    "    return(img)\n",
    "  }\n",
    "    \n",
    "  # initialize the binary image using the mean value of the original image\n",
    "  mean_img <- mean(img)\n",
    "  img2 <- ifelse(img >= mean_img, 1, -1)\n",
    "  # use the pre-computed logOdds, otherwise calculate on the fly\n",
    "  if (is.null(pre_computed_logOdds)) {\n",
    "    # print error\n",
    "    stop(\"Error: pre_computed_logOdds is NULL. Please provide precomputed logOdds values.\")\n",
    " } else {\n",
    "    logOdds_local <- pre_computed_logOdds\n",
    "  }\n",
    "  \n",
    "  \n",
    "  pb <- progress_bar$new(\n",
    "    format = \"Gibbs Sampling [:bar] :percent ETA: :eta\",\n",
    "    total = niter, \n",
    "    clear = FALSE, \n",
    "    width = 60\n",
    "  )\n",
    "  \n",
    "  for (iter in 1:niter) {\n",
    "    pb$tick()\n",
    "    # randomly select a pixel position\n",
    "    ix <- sample(1:ncol(img), 1)\n",
    "    iy <- sample(1:nrow(img), 1)\n",
    "    \n",
    "    neighbor_sum <- NeighborSum(ix, iy, img2, J)  # Calculate NeighborSum\n",
    "    \n",
    "    # Update pixel value based on conditional probability\n",
    "    if (runif(1) < sigmoid(neighbor_sum + logOdds_local[iy, ix])) {\n",
    "      img2[iy, ix] <- 1\n",
    "    } else {\n",
    "      img2[iy, ix] <- -1\n",
    "    }\n",
    "    \n",
    "}\n",
    "  return(img2)\n",
    "}\n"
   ]
  },
  {
   "cell_type": "markdown",
   "metadata": {
    "vscode": {
     "languageId": "r"
    }
   },
   "source": [
    " ## Mean Field Variational Inference Algorithm\n",
    "\n",
    " Mean field variational inference approximates the posterior distribution by a factorized distribution where each pixel is independent.\n",
    "\n",
    " ### Algorithm:\n",
    " 1. **Initialization**:  \n",
    "    Set each pixel $\\mu_s$ by thresholding the noisy image:\n",
    "    $$\\mu_s^{(0)}=\\begin{cases}\n",
    "    +1 & \\text{if } \\text{img}_s \\geq \\text{mean(img)},\\\\\n",
    "    -1 & \\text{otherwise}.\n",
    "    \\end{cases}$$\n",
    "\n",
    " 2. **Iterative Updates**:\n",
    "    - Randomly select a pixel $s \\in V$\n",
    "    - Update the mean for pixel $s$ via:\n",
    "      $$\\mu_s^{(k)} \\leftarrow \\tanh\\left(\\sum_{t \\in \\text{Nbr}(s)} \\beta_{st} \\cdot \\mu_t^{(k-1)} + \\beta_s\\right)$$\n",
    "    where the hyperbolic tangent is defined as $\\tanh(x)=\\frac{e^x-e^{-x}}{e^x+e^{-x}}$\n",
    "\n",
    " 3. **Output**:\n",
    "    - The final values of $\\mu$ represent the expected values of the pixels in the denoised image.\n",
    "\n",
    " In this implementation:\n",
    " - $\\beta_{st} = J = 1$ for all neighboring pixels\n",
    " - $\\beta_s$ is provided by the logOdds values (precomputed)\n",
    " - A damping factor (rate) is applied to stabilize the updates"
   ]
  },
  {
   "cell_type": "code",
   "execution_count": 10,
   "metadata": {
    "vscode": {
     "languageId": "r"
    }
   },
   "outputs": [],
   "source": [
    "# Mean Field update function\n",
    "meanfield <- function(img, J, niter = 10, pre_computed_logOdds = NULL) {\n",
    "  mean_img <- mean(img)\n",
    "  img2 <- ifelse(img >= mean_img, 1, -1) \n",
    "  if (is.null(pre_computed_logOdds)) {\n",
    "    # print error\n",
    "    stop(\"Error: pre_computed_logOdds is NULL. Please provide precomputed logOdds values.\")\n",
    "  } else {\n",
    "    logOdds_local <- pre_computed_logOdds\n",
    "  }\n",
    "  \n",
    "  # initialize the mean field state using the binary image\n",
    "  mu <- matrix(img2, nrow = nrow(img2), ncol = ncol(img2))\n",
    "  \n",
    "  pb <- progress_bar$new(\n",
    "    format = \"Mean Field [:bar] :percent ETA: :eta\",\n",
    "    total = niter,\n",
    "    clear = FALSE,\n",
    "    width = 60\n",
    "  )\n",
    "  \n",
    "  for (iter in 1:niter) {\n",
    "    pb$tick()\n",
    "    # randomly select a pixel to update\n",
    "    ix <- sample(1:ncol(img), 1)\n",
    "    iy <- sample(1:nrow(img), 1)\n",
    "    \n",
    "    neighbor_sum <- NeighborSum(ix, iy, mu, J)  # Calculate NeighborSum\n",
    "    # Update mean field estimate with damped update\n",
    "    mu[iy, ix] <- tanh(neighbor_sum +  logOdds_local[iy, ix])\n",
    "  }\n",
    "  \n",
    "  return(mu)\n",
    "}"
   ]
  },
  {
   "cell_type": "code",
   "execution_count": 11,
   "metadata": {
    "vscode": {
     "languageId": "r"
    }
   },
   "outputs": [
    {
     "name": "stdout",
     "output_type": "stream",
     "text": [
      "Iteration counts: 82000 163000 245000 330000 5e+05 6e+05 \n"
     ]
    }
   ],
   "source": [
    "# set the random seed for sampling\n",
    "set.seed(10)\n",
    "\n",
    "# define the iteration counts (in terms of pixel updates)\n",
    "iters <- c(82000, 163000, 245000, 330000, 500000, 600000)\n",
    "cat(\"Iteration counts:\", iters, \"\\n\")\n"
   ]
  },
  {
   "cell_type": "code",
   "execution_count": 12,
   "metadata": {
    "vscode": {
     "languageId": "r"
    }
   },
   "outputs": [
    {
     "data": {
      "text/html": [
       "<strong>pdf:</strong> 2"
      ],
      "text/latex": [
       "\\textbf{pdf:} 2"
      ],
      "text/markdown": [
       "**pdf:** 2"
      ],
      "text/plain": [
       "pdf \n",
       "  2 "
      ]
     },
     "metadata": {},
     "output_type": "display_data"
    }
   ],
   "source": [
    "# plot the Mean Field denoising results\n",
    "pdf(file.path(base_path, \"meanFieldDenoising.pdf\"), width = 4 * length(iters), height = 7)\n",
    "par(mfrow = c(1, length(iters)), mar = c(2, 2, 6, 2))\n",
    "for (i in seq_along(iters)) {\n",
    "  result <- meanfield(y, J = 1, niter = iters[i], pre_computed_logOdds = logOdds)\n",
    "  image(t(result[nrow(result):1,]), col = grey.colors(256), axes = FALSE, \n",
    "        main = paste(\"iter =\", iters[i]))\n",
    "}\n",
    "mtext(\"Mean Field (pixel-level updates)\", side = 3, outer = TRUE, line = -1.5, cex = 1.6)\n",
    "dev.off()"
   ]
  },
  {
   "cell_type": "code",
   "execution_count": 13,
   "metadata": {
    "vscode": {
     "languageId": "r"
    }
   },
   "outputs": [
    {
     "data": {
      "text/html": [
       "<strong>pdf:</strong> 2"
      ],
      "text/latex": [
       "\\textbf{pdf:} 2"
      ],
      "text/markdown": [
       "**pdf:** 2"
      ],
      "text/plain": [
       "pdf \n",
       "  2 "
      ]
     },
     "metadata": {},
     "output_type": "display_data"
    }
   ],
   "source": [
    "# plot the Gibbs Sampling denoising results\n",
    "pdf(file.path(base_path, \"gibbsDenoising.pdf\"), width = 4 * length(iters), height = 6)\n",
    "par(mfrow = c(1, length(iters)), mar = c(2, 2,  6, 2))\n",
    "for (i in seq_along(iters)) {\n",
    "  result <- gibbs(y, J = 1, niter = iters[i], pre_computed_logOdds = logOdds)\n",
    "  image(t(result[nrow(result):1,]), col = grey.colors(256), axes = FALSE, \n",
    "        main = paste(\"iter =\", iters[i]))\n",
    "}\n",
    "mtext(\"Gibbs Sampling (pixel-level updates)\", side = 3, outer = TRUE, line = -1.5, cex = 1.6)\n",
    "dev.off()"
   ]
  },
  {
   "cell_type": "code",
   "execution_count": null,
   "metadata": {
    "vscode": {
     "languageId": "r"
    }
   },
   "outputs": [],
   "source": []
  }
 ],
 "metadata": {
  "kernelspec": {
   "display_name": "R",
   "language": "R",
   "name": "ir"
  },
  "language_info": {
   "codemirror_mode": "r",
   "file_extension": ".r",
   "mimetype": "text/x-r-source",
   "name": "R",
   "pygments_lexer": "r",
   "version": "4.3.3"
  }
 },
 "nbformat": 4,
 "nbformat_minor": 2
}
