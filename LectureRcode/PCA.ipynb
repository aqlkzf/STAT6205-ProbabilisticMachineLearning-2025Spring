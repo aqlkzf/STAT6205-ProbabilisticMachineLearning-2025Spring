{
  "cells": [
    {
      "cell_type": "markdown",
      "metadata": {
        "id": "6yJKwhuCUb5v"
      },
      "source": [
        "# Principal component analysis\n",
        "Zhixiang Lin\n",
        " 12/16/2024"
      ]
    },
    {
      "cell_type": "markdown",
      "metadata": {},
      "source": [
        "## Compare spectral decomposition and SVD"
      ]
    },
    {
      "cell_type": "code",
      "execution_count": 1,
      "metadata": {
        "colab": {
          "base_uri": "https://localhost:8080/"
        },
        "id": "4_EfUxP9Uf3u",
        "outputId": "b701d6c2-3411-44f3-ad73-92c7e7c2a641",
        "vscode": {
          "languageId": "r"
        }
      },
      "outputs": [
        {
          "name": "stdout",
          "output_type": "stream",
          "text": [
            "   user  system elapsed \n",
            " 31.814   0.680  33.239 \n",
            "   user  system elapsed \n",
            "  1.996   0.063   2.070 \n"
          ]
        }
      ],
      "source": [
        "n <- 1000\n",
        "p <- 3000\n",
        "Y <- matrix(rnorm(n*p), nrow=n)\n",
        "print(system.time(tmp1 <- eigen(t(Y)%*%Y)))\n",
        "print(system.time(tmp2 <- svd(Y)))"
      ]
    },
    {
      "cell_type": "code",
      "execution_count": 2,
      "metadata": {
        "id": "Fds0O0-RUkOy",
        "vscode": {
          "languageId": "r"
        }
      },
      "outputs": [],
      "source": [
        "eigen_values <- tmp1$values ## eigenvalues\n",
        "eigen_vector <- tmp1$vectors ## eigenvectors"
      ]
    },
    {
      "cell_type": "code",
      "execution_count": 3,
      "metadata": {
        "id": "yaB30jmbUpw-",
        "vscode": {
          "languageId": "r"
        }
      },
      "outputs": [],
      "source": [
        "d <- tmp2$d\n",
        "v <- tmp2$v"
      ]
    },
    {
      "cell_type": "markdown",
      "metadata": {},
      "source": [
        "Check the eigenvector"
      ]
    },
    {
      "cell_type": "code",
      "execution_count": 4,
      "metadata": {
        "colab": {
          "base_uri": "https://localhost:8080/",
          "height": 86
        },
        "id": "k4MUCETLUroL",
        "outputId": "97220e3d-75f2-4627-9da2-d0d0ba6a9c55",
        "vscode": {
          "languageId": "r"
        }
      },
      "outputs": [
        {
          "data": {
            "text/html": [
              "<style>\n",
              ".list-inline {list-style: none; margin:0; padding: 0}\n",
              ".list-inline>li {display: inline-block}\n",
              ".list-inline>li:not(:last-child)::after {content: \"\\00b7\"; padding: 0 .5ex}\n",
              "</style>\n",
              "<ol class=list-inline><li>-0.017290241828956</li><li>0.00565672863815813</li><li>0.00770437031322245</li><li>0.0266318272124142</li><li>-0.0399904815470619</li><li>-0.000741947011057259</li></ol>\n"
            ],
            "text/latex": [
              "\\begin{enumerate*}\n",
              "\\item -0.017290241828956\n",
              "\\item 0.00565672863815813\n",
              "\\item 0.00770437031322245\n",
              "\\item 0.0266318272124142\n",
              "\\item -0.0399904815470619\n",
              "\\item -0.000741947011057259\n",
              "\\end{enumerate*}\n"
            ],
            "text/markdown": [
              "1. -0.017290241828956\n",
              "2. 0.00565672863815813\n",
              "3. 0.00770437031322245\n",
              "4. 0.0266318272124142\n",
              "5. -0.0399904815470619\n",
              "6. -0.000741947011057259\n",
              "\n",
              "\n"
            ],
            "text/plain": [
              "[1] -0.017290242  0.005656729  0.007704370  0.026631827 -0.039990482\n",
              "[6] -0.000741947"
            ]
          },
          "metadata": {},
          "output_type": "display_data"
        },
        {
          "data": {
            "text/html": [
              "<style>\n",
              ".list-inline {list-style: none; margin:0; padding: 0}\n",
              ".list-inline>li {display: inline-block}\n",
              ".list-inline>li:not(:last-child)::after {content: \"\\00b7\"; padding: 0 .5ex}\n",
              "</style>\n",
              "<ol class=list-inline><li>0.0172902418289568</li><li>-0.00565672863815751</li><li>-0.00770437031322188</li><li>-0.0266318272124139</li><li>0.0399904815470617</li><li>0.000741947011057804</li></ol>\n"
            ],
            "text/latex": [
              "\\begin{enumerate*}\n",
              "\\item 0.0172902418289568\n",
              "\\item -0.00565672863815751\n",
              "\\item -0.00770437031322188\n",
              "\\item -0.0266318272124139\n",
              "\\item 0.0399904815470617\n",
              "\\item 0.000741947011057804\n",
              "\\end{enumerate*}\n"
            ],
            "text/markdown": [
              "1. 0.0172902418289568\n",
              "2. -0.00565672863815751\n",
              "3. -0.00770437031322188\n",
              "4. -0.0266318272124139\n",
              "5. 0.0399904815470617\n",
              "6. 0.000741947011057804\n",
              "\n",
              "\n"
            ],
            "text/plain": [
              "[1]  0.017290242 -0.005656729 -0.007704370 -0.026631827  0.039990482\n",
              "[6]  0.000741947"
            ]
          },
          "metadata": {},
          "output_type": "display_data"
        }
      ],
      "source": [
        "head(eigen_vector[,1])\n",
        "head(v[,1])"
      ]
    },
    {
      "cell_type": "markdown",
      "metadata": {},
      "source": [
        "Check the eigenvalues"
      ]
    },
    {
      "cell_type": "code",
      "execution_count": 5,
      "metadata": {
        "colab": {
          "base_uri": "https://localhost:8080/",
          "height": 52
        },
        "id": "3QXwYVgsUtl9",
        "outputId": "6b737abd-93dc-44ce-85c7-8cab35b841b4",
        "vscode": {
          "languageId": "r"
        }
      },
      "outputs": [
        {
          "data": {
            "text/html": [
              "<style>\n",
              ".list-inline {list-style: none; margin:0; padding: 0}\n",
              ".list-inline>li {display: inline-block}\n",
              ".list-inline>li:not(:last-child)::after {content: \"\\00b7\"; padding: 0 .5ex}\n",
              "</style>\n",
              "<ol class=list-inline><li>7391.67698448228</li><li>7360.67492693652</li><li>7322.8410200083</li><li>7275.15791644913</li><li>7216.91677999331</li><li>7181.46370219202</li></ol>\n"
            ],
            "text/latex": [
              "\\begin{enumerate*}\n",
              "\\item 7391.67698448228\n",
              "\\item 7360.67492693652\n",
              "\\item 7322.8410200083\n",
              "\\item 7275.15791644913\n",
              "\\item 7216.91677999331\n",
              "\\item 7181.46370219202\n",
              "\\end{enumerate*}\n"
            ],
            "text/markdown": [
              "1. 7391.67698448228\n",
              "2. 7360.67492693652\n",
              "3. 7322.8410200083\n",
              "4. 7275.15791644913\n",
              "5. 7216.91677999331\n",
              "6. 7181.46370219202\n",
              "\n",
              "\n"
            ],
            "text/plain": [
              "[1] 7391.677 7360.675 7322.841 7275.158 7216.917 7181.464"
            ]
          },
          "metadata": {},
          "output_type": "display_data"
        },
        {
          "data": {
            "text/html": [
              "<style>\n",
              ".list-inline {list-style: none; margin:0; padding: 0}\n",
              ".list-inline>li {display: inline-block}\n",
              ".list-inline>li:not(:last-child)::after {content: \"\\00b7\"; padding: 0 .5ex}\n",
              "</style>\n",
              "<ol class=list-inline><li>7391.67698448228</li><li>7360.67492693652</li><li>7322.8410200083</li><li>7275.15791644913</li><li>7216.91677999332</li><li>7181.46370219202</li></ol>\n"
            ],
            "text/latex": [
              "\\begin{enumerate*}\n",
              "\\item 7391.67698448228\n",
              "\\item 7360.67492693652\n",
              "\\item 7322.8410200083\n",
              "\\item 7275.15791644913\n",
              "\\item 7216.91677999332\n",
              "\\item 7181.46370219202\n",
              "\\end{enumerate*}\n"
            ],
            "text/markdown": [
              "1. 7391.67698448228\n",
              "2. 7360.67492693652\n",
              "3. 7322.8410200083\n",
              "4. 7275.15791644913\n",
              "5. 7216.91677999332\n",
              "6. 7181.46370219202\n",
              "\n",
              "\n"
            ],
            "text/plain": [
              "[1] 7391.677 7360.675 7322.841 7275.158 7216.917 7181.464"
            ]
          },
          "metadata": {},
          "output_type": "display_data"
        }
      ],
      "source": [
        "head(eigen_values)\n",
        "head(d^2)"
      ]
    },
    {
      "cell_type": "markdown",
      "metadata": {},
      "source": [
        "## Compare princomp and prcomp"
      ]
    },
    {
      "cell_type": "code",
      "execution_count": 6,
      "metadata": {
        "colab": {
          "base_uri": "https://localhost:8080/",
          "height": 52
        },
        "id": "0PrHU2LGUvfz",
        "outputId": "2d8b94d1-dbae-49fd-d371-1e6e22302656",
        "vscode": {
          "languageId": "r"
        }
      },
      "outputs": [
        {
          "data": {
            "text/html": [
              "<style>\n",
              ".list-inline {list-style: none; margin:0; padding: 0}\n",
              ".list-inline>li {display: inline-block}\n",
              ".list-inline>li:not(:last-child)::after {content: \"\\00b7\"; padding: 0 .5ex}\n",
              "</style>\n",
              "<ol class=list-inline><li>'sdev'</li><li>'loadings'</li><li>'center'</li><li>'scale'</li><li>'n.obs'</li><li>'scores'</li><li>'call'</li></ol>\n"
            ],
            "text/latex": [
              "\\begin{enumerate*}\n",
              "\\item 'sdev'\n",
              "\\item 'loadings'\n",
              "\\item 'center'\n",
              "\\item 'scale'\n",
              "\\item 'n.obs'\n",
              "\\item 'scores'\n",
              "\\item 'call'\n",
              "\\end{enumerate*}\n"
            ],
            "text/markdown": [
              "1. 'sdev'\n",
              "2. 'loadings'\n",
              "3. 'center'\n",
              "4. 'scale'\n",
              "5. 'n.obs'\n",
              "6. 'scores'\n",
              "7. 'call'\n",
              "\n",
              "\n"
            ],
            "text/plain": [
              "[1] \"sdev\"     \"loadings\" \"center\"   \"scale\"    \"n.obs\"    \"scores\"   \"call\"    "
            ]
          },
          "metadata": {},
          "output_type": "display_data"
        },
        {
          "data": {
            "text/html": [
              "<style>\n",
              ".list-inline {list-style: none; margin:0; padding: 0}\n",
              ".list-inline>li {display: inline-block}\n",
              ".list-inline>li:not(:last-child)::after {content: \"\\00b7\"; padding: 0 .5ex}\n",
              "</style>\n",
              "<ol class=list-inline><li>'sdev'</li><li>'rotation'</li><li>'center'</li><li>'scale'</li><li>'x'</li></ol>\n"
            ],
            "text/latex": [
              "\\begin{enumerate*}\n",
              "\\item 'sdev'\n",
              "\\item 'rotation'\n",
              "\\item 'center'\n",
              "\\item 'scale'\n",
              "\\item 'x'\n",
              "\\end{enumerate*}\n"
            ],
            "text/markdown": [
              "1. 'sdev'\n",
              "2. 'rotation'\n",
              "3. 'center'\n",
              "4. 'scale'\n",
              "5. 'x'\n",
              "\n",
              "\n"
            ],
            "text/plain": [
              "[1] \"sdev\"     \"rotation\" \"center\"   \"scale\"    \"x\"       "
            ]
          },
          "metadata": {},
          "output_type": "display_data"
        }
      ],
      "source": [
        "n <- 10^3\n",
        "p <- 10^2\n",
        "X <- matrix(rnorm(n*p), nrow=n)\n",
        "pca1 <- princomp(X, cor = FALSE) ## this one implements spectral decomposition for PCA\n",
        "pca2 <- prcomp(X, center = TRUE, scale=FALSE) ## this one implements SVD for PCA\n",
        "names(pca1)\n",
        "names(pca2)"
      ]
    },
    {
      "cell_type": "code",
      "execution_count": 7,
      "metadata": {
        "colab": {
          "base_uri": "https://localhost:8080/",
          "height": 69
        },
        "id": "osYhmROcUyaY",
        "outputId": "f04d6009-e0c5-4460-b62e-52a7347c78f3",
        "vscode": {
          "languageId": "r"
        }
      },
      "outputs": [
        {
          "data": {
            "text/html": [
              "<style>\n",
              ".dl-inline {width: auto; margin:0; padding: 0}\n",
              ".dl-inline>dt, .dl-inline>dd {float: none; width: auto; display: inline-block}\n",
              ".dl-inline>dt::after {content: \":\\0020\"; padding-right: .5ex}\n",
              ".dl-inline>dt:not(:first-of-type) {padding-left: .5ex}\n",
              "</style><dl class=dl-inline><dt>Comp.1</dt><dd>1.30904504271853</dd><dt>Comp.2</dt><dd>1.28803764011977</dd><dt>Comp.3</dt><dd>1.27947255658137</dd><dt>Comp.4</dt><dd>1.26989028280181</dd><dt>Comp.5</dt><dd>1.25597939674876</dd><dt>Comp.6</dt><dd>1.24539654738149</dd></dl>\n"
            ],
            "text/latex": [
              "\\begin{description*}\n",
              "\\item[Comp.1] 1.30904504271853\n",
              "\\item[Comp.2] 1.28803764011977\n",
              "\\item[Comp.3] 1.27947255658137\n",
              "\\item[Comp.4] 1.26989028280181\n",
              "\\item[Comp.5] 1.25597939674876\n",
              "\\item[Comp.6] 1.24539654738149\n",
              "\\end{description*}\n"
            ],
            "text/markdown": [
              "Comp.1\n",
              ":   1.30904504271853Comp.2\n",
              ":   1.28803764011977Comp.3\n",
              ":   1.27947255658137Comp.4\n",
              ":   1.26989028280181Comp.5\n",
              ":   1.25597939674876Comp.6\n",
              ":   1.24539654738149\n",
              "\n"
            ],
            "text/plain": [
              "  Comp.1   Comp.2   Comp.3   Comp.4   Comp.5   Comp.6 \n",
              "1.309045 1.288038 1.279473 1.269890 1.255979 1.245397 "
            ]
          },
          "metadata": {},
          "output_type": "display_data"
        },
        {
          "data": {
            "text/html": [
              "<style>\n",
              ".list-inline {list-style: none; margin:0; padding: 0}\n",
              ".list-inline>li {display: inline-block}\n",
              ".list-inline>li:not(:last-child)::after {content: \"\\00b7\"; padding: 0 .5ex}\n",
              "</style>\n",
              "<ol class=list-inline><li>1.30970005654121</li><li>1.2886821423568</li><li>1.28011277306205</li><li>1.27052570454926</li><li>1.25660785783225</li><li>1.24601971306841</li></ol>\n"
            ],
            "text/latex": [
              "\\begin{enumerate*}\n",
              "\\item 1.30970005654121\n",
              "\\item 1.2886821423568\n",
              "\\item 1.28011277306205\n",
              "\\item 1.27052570454926\n",
              "\\item 1.25660785783225\n",
              "\\item 1.24601971306841\n",
              "\\end{enumerate*}\n"
            ],
            "text/markdown": [
              "1. 1.30970005654121\n",
              "2. 1.2886821423568\n",
              "3. 1.28011277306205\n",
              "4. 1.27052570454926\n",
              "5. 1.25660785783225\n",
              "6. 1.24601971306841\n",
              "\n",
              "\n"
            ],
            "text/plain": [
              "[1] 1.309700 1.288682 1.280113 1.270526 1.256608 1.246020"
            ]
          },
          "metadata": {},
          "output_type": "display_data"
        }
      ],
      "source": [
        "head(pca1$sdev)\n",
        "head(pca2$sdev)"
      ]
    },
    {
      "cell_type": "markdown",
      "metadata": {},
      "source": [
        "check standard deviation for the PCs"
      ]
    },
    {
      "cell_type": "code",
      "execution_count": 8,
      "metadata": {
        "colab": {
          "base_uri": "https://localhost:8080/",
          "height": 156
        },
        "id": "I1esosF9U0xe",
        "outputId": "381ff801-14fd-4208-899e-186ef36f71ba",
        "vscode": {
          "languageId": "r"
        }
      },
      "outputs": [
        {
          "data": {
            "text/html": [
              "<style>\n",
              ".list-inline {list-style: none; margin:0; padding: 0}\n",
              ".list-inline>li {display: inline-block}\n",
              ".list-inline>li:not(:last-child)::after {content: \"\\00b7\"; padding: 0 .5ex}\n",
              "</style>\n",
              "<ol class=list-inline><li>0.00907609401423746</li><li>0.00383738709844389</li><li>-0.128923675012579</li><li>0.0408942694999731</li><li>-0.115779826514274</li><li>-0.0863083515396994</li></ol>\n"
            ],
            "text/latex": [
              "\\begin{enumerate*}\n",
              "\\item 0.00907609401423746\n",
              "\\item 0.00383738709844389\n",
              "\\item -0.128923675012579\n",
              "\\item 0.0408942694999731\n",
              "\\item -0.115779826514274\n",
              "\\item -0.0863083515396994\n",
              "\\end{enumerate*}\n"
            ],
            "text/markdown": [
              "1. 0.00907609401423746\n",
              "2. 0.00383738709844389\n",
              "3. -0.128923675012579\n",
              "4. 0.0408942694999731\n",
              "5. -0.115779826514274\n",
              "6. -0.0863083515396994\n",
              "\n",
              "\n"
            ],
            "text/plain": [
              "[1]  0.009076094  0.003837387 -0.128923675  0.040894269 -0.115779827\n",
              "[6] -0.086308352"
            ]
          },
          "metadata": {},
          "output_type": "display_data"
        },
        {
          "data": {
            "text/html": [
              "<style>\n",
              ".list-inline {list-style: none; margin:0; padding: 0}\n",
              ".list-inline>li {display: inline-block}\n",
              ".list-inline>li:not(:last-child)::after {content: \"\\00b7\"; padding: 0 .5ex}\n",
              "</style>\n",
              "<ol class=list-inline><li>-0.00907609401423625</li><li>-0.00383738709844555</li><li>0.128923675012579</li><li>-0.0408942694999749</li><li>0.115779826514274</li><li>0.0863083515396974</li></ol>\n"
            ],
            "text/latex": [
              "\\begin{enumerate*}\n",
              "\\item -0.00907609401423625\n",
              "\\item -0.00383738709844555\n",
              "\\item 0.128923675012579\n",
              "\\item -0.0408942694999749\n",
              "\\item 0.115779826514274\n",
              "\\item 0.0863083515396974\n",
              "\\end{enumerate*}\n"
            ],
            "text/markdown": [
              "1. -0.00907609401423625\n",
              "2. -0.00383738709844555\n",
              "3. 0.128923675012579\n",
              "4. -0.0408942694999749\n",
              "5. 0.115779826514274\n",
              "6. 0.0863083515396974\n",
              "\n",
              "\n"
            ],
            "text/plain": [
              "[1] -0.009076094 -0.003837387  0.128923675 -0.040894269  0.115779827\n",
              "[6]  0.086308352"
            ]
          },
          "metadata": {},
          "output_type": "display_data"
        },
        {
          "data": {
            "text/html": [
              "<style>\n",
              ".list-inline {list-style: none; margin:0; padding: 0}\n",
              ".list-inline>li {display: inline-block}\n",
              ".list-inline>li:not(:last-child)::after {content: \"\\00b7\"; padding: 0 .5ex}\n",
              "</style>\n",
              "<ol class=list-inline><li>0.0372592788040199</li><li>-0.0820805389192203</li><li>0.0361717134946564</li><li>-0.126440444220015</li><li>-0.000275664405474876</li><li>-0.123413096919052</li></ol>\n"
            ],
            "text/latex": [
              "\\begin{enumerate*}\n",
              "\\item 0.0372592788040199\n",
              "\\item -0.0820805389192203\n",
              "\\item 0.0361717134946564\n",
              "\\item -0.126440444220015\n",
              "\\item -0.000275664405474876\n",
              "\\item -0.123413096919052\n",
              "\\end{enumerate*}\n"
            ],
            "text/markdown": [
              "1. 0.0372592788040199\n",
              "2. -0.0820805389192203\n",
              "3. 0.0361717134946564\n",
              "4. -0.126440444220015\n",
              "5. -0.000275664405474876\n",
              "6. -0.123413096919052\n",
              "\n",
              "\n"
            ],
            "text/plain": [
              "[1]  0.0372592788 -0.0820805389  0.0361717135 -0.1264404442 -0.0002756644\n",
              "[6] -0.1234130969"
            ]
          },
          "metadata": {},
          "output_type": "display_data"
        },
        {
          "data": {
            "text/html": [
              "<style>\n",
              ".list-inline {list-style: none; margin:0; padding: 0}\n",
              ".list-inline>li {display: inline-block}\n",
              ".list-inline>li:not(:last-child)::after {content: \"\\00b7\"; padding: 0 .5ex}\n",
              "</style>\n",
              "<ol class=list-inline><li>0.0372592788040203</li><li>-0.0820805389192212</li><li>0.036171713494655</li><li>-0.126440444220017</li><li>-0.000275664405476217</li><li>-0.123413096919052</li></ol>\n"
            ],
            "text/latex": [
              "\\begin{enumerate*}\n",
              "\\item 0.0372592788040203\n",
              "\\item -0.0820805389192212\n",
              "\\item 0.036171713494655\n",
              "\\item -0.126440444220017\n",
              "\\item -0.000275664405476217\n",
              "\\item -0.123413096919052\n",
              "\\end{enumerate*}\n"
            ],
            "text/markdown": [
              "1. 0.0372592788040203\n",
              "2. -0.0820805389192212\n",
              "3. 0.036171713494655\n",
              "4. -0.126440444220017\n",
              "5. -0.000275664405476217\n",
              "6. -0.123413096919052\n",
              "\n",
              "\n"
            ],
            "text/plain": [
              "[1]  0.0372592788 -0.0820805389  0.0361717135 -0.1264404442 -0.0002756644\n",
              "[6] -0.1234130969"
            ]
          },
          "metadata": {},
          "output_type": "display_data"
        }
      ],
      "source": [
        "head(pca1$loadings[,1])\n",
        "head(pca2$rotation[,1])\n",
        "head(pca1$loadings[,2])\n",
        "head(pca2$rotation[,2])"
      ]
    },
    {
      "cell_type": "markdown",
      "metadata": {},
      "source": [
        "check the principal components"
      ]
    },
    {
      "cell_type": "code",
      "execution_count": 9,
      "metadata": {
        "colab": {
          "base_uri": "https://localhost:8080/",
          "height": 52
        },
        "id": "yYYvRgFoU2r7",
        "outputId": "10727f7b-52f8-41ab-cbc1-46ed0fc829c6",
        "vscode": {
          "languageId": "r"
        }
      },
      "outputs": [
        {
          "data": {
            "text/html": [
              "<style>\n",
              ".list-inline {list-style: none; margin:0; padding: 0}\n",
              ".list-inline>li {display: inline-block}\n",
              ".list-inline>li:not(:last-child)::after {content: \"\\00b7\"; padding: 0 .5ex}\n",
              "</style>\n",
              "<ol class=list-inline><li>1.12077920222836</li><li>2.94346082661318</li><li>1.18133433323532</li><li>2.24413482985068</li><li>-0.480873833949814</li><li>1.69830222720849</li></ol>\n"
            ],
            "text/latex": [
              "\\begin{enumerate*}\n",
              "\\item 1.12077920222836\n",
              "\\item 2.94346082661318\n",
              "\\item 1.18133433323532\n",
              "\\item 2.24413482985068\n",
              "\\item -0.480873833949814\n",
              "\\item 1.69830222720849\n",
              "\\end{enumerate*}\n"
            ],
            "text/markdown": [
              "1. 1.12077920222836\n",
              "2. 2.94346082661318\n",
              "3. 1.18133433323532\n",
              "4. 2.24413482985068\n",
              "5. -0.480873833949814\n",
              "6. 1.69830222720849\n",
              "\n",
              "\n"
            ],
            "text/plain": [
              "[1]  1.1207792  2.9434608  1.1813343  2.2441348 -0.4808738  1.6983022"
            ]
          },
          "metadata": {},
          "output_type": "display_data"
        },
        {
          "data": {
            "text/html": [
              "<style>\n",
              ".list-inline {list-style: none; margin:0; padding: 0}\n",
              ".list-inline>li {display: inline-block}\n",
              ".list-inline>li:not(:last-child)::after {content: \"\\00b7\"; padding: 0 .5ex}\n",
              "</style>\n",
              "<ol class=list-inline><li>-1.12077920222836</li><li>-2.94346082661318</li><li>-1.18133433323531</li><li>-2.24413482985069</li><li>0.480873833949819</li><li>-1.69830222720852</li></ol>\n"
            ],
            "text/latex": [
              "\\begin{enumerate*}\n",
              "\\item -1.12077920222836\n",
              "\\item -2.94346082661318\n",
              "\\item -1.18133433323531\n",
              "\\item -2.24413482985069\n",
              "\\item 0.480873833949819\n",
              "\\item -1.69830222720852\n",
              "\\end{enumerate*}\n"
            ],
            "text/markdown": [
              "1. -1.12077920222836\n",
              "2. -2.94346082661318\n",
              "3. -1.18133433323531\n",
              "4. -2.24413482985069\n",
              "5. 0.480873833949819\n",
              "6. -1.69830222720852\n",
              "\n",
              "\n"
            ],
            "text/plain": [
              "[1] -1.1207792 -2.9434608 -1.1813343 -2.2441348  0.4808738 -1.6983022"
            ]
          },
          "metadata": {},
          "output_type": "display_data"
        }
      ],
      "source": [
        "pca1_PC1 <- pca1$scores[,1] ## PC1\n",
        "pca2_PC1 <- pca2$x[,1] ## PC1\n",
        "head(pca1_PC1)\n",
        "head(pca2_PC1)"
      ]
    },
    {
      "cell_type": "markdown",
      "metadata": {},
      "source": [
        "Use the correlation matrix for PCA"
      ]
    },
    {
      "cell_type": "code",
      "execution_count": 10,
      "metadata": {
        "id": "yHh9NwfTU4q4",
        "vscode": {
          "languageId": "r"
        }
      },
      "outputs": [],
      "source": [
        "pca1_1 <- princomp(X, cor = T) ## this one implements spectral decomposition\n",
        "pca2_1 <- prcomp(X, center = TRUE, scale=T) ## this one implements SVD"
      ]
    },
    {
      "cell_type": "markdown",
      "metadata": {},
      "source": [
        "Check standard deviation for the PCs"
      ]
    },
    {
      "cell_type": "code",
      "execution_count": 11,
      "metadata": {
        "colab": {
          "base_uri": "https://localhost:8080/",
          "height": 69
        },
        "id": "JoqNBRwBU6jm",
        "outputId": "0c6d8a55-b9f8-43cd-fc6d-38a623b46903",
        "vscode": {
          "languageId": "r"
        }
      },
      "outputs": [
        {
          "data": {
            "text/html": [
              "<style>\n",
              ".dl-inline {width: auto; margin:0; padding: 0}\n",
              ".dl-inline>dt, .dl-inline>dd {float: none; width: auto; display: inline-block}\n",
              ".dl-inline>dt::after {content: \":\\0020\"; padding-right: .5ex}\n",
              ".dl-inline>dt:not(:first-of-type) {padding-left: .5ex}\n",
              "</style><dl class=dl-inline><dt>Comp.1</dt><dd>1.30533311830974</dd><dt>Comp.2</dt><dd>1.28246610606043</dd><dt>Comp.3</dt><dd>1.27579591951333</dd><dt>Comp.4</dt><dd>1.26058966932631</dd><dt>Comp.5</dt><dd>1.25585791465525</dd><dt>Comp.6</dt><dd>1.24403031047868</dd></dl>\n"
            ],
            "text/latex": [
              "\\begin{description*}\n",
              "\\item[Comp.1] 1.30533311830974\n",
              "\\item[Comp.2] 1.28246610606043\n",
              "\\item[Comp.3] 1.27579591951333\n",
              "\\item[Comp.4] 1.26058966932631\n",
              "\\item[Comp.5] 1.25585791465525\n",
              "\\item[Comp.6] 1.24403031047868\n",
              "\\end{description*}\n"
            ],
            "text/markdown": [
              "Comp.1\n",
              ":   1.30533311830974Comp.2\n",
              ":   1.28246610606043Comp.3\n",
              ":   1.27579591951333Comp.4\n",
              ":   1.26058966932631Comp.5\n",
              ":   1.25585791465525Comp.6\n",
              ":   1.24403031047868\n",
              "\n"
            ],
            "text/plain": [
              "  Comp.1   Comp.2   Comp.3   Comp.4   Comp.5   Comp.6 \n",
              "1.305333 1.282466 1.275796 1.260590 1.255858 1.244030 "
            ]
          },
          "metadata": {},
          "output_type": "display_data"
        },
        {
          "data": {
            "text/html": [
              "<style>\n",
              ".list-inline {list-style: none; margin:0; padding: 0}\n",
              ".list-inline>li {display: inline-block}\n",
              ".list-inline>li:not(:last-child)::after {content: \"\\00b7\"; padding: 0 .5ex}\n",
              "</style>\n",
              "<ol class=list-inline><li>1.30533311830974</li><li>1.28246610606043</li><li>1.27579591951333</li><li>1.26058966932631</li><li>1.25585791465525</li><li>1.24403031047868</li></ol>\n"
            ],
            "text/latex": [
              "\\begin{enumerate*}\n",
              "\\item 1.30533311830974\n",
              "\\item 1.28246610606043\n",
              "\\item 1.27579591951333\n",
              "\\item 1.26058966932631\n",
              "\\item 1.25585791465525\n",
              "\\item 1.24403031047868\n",
              "\\end{enumerate*}\n"
            ],
            "text/markdown": [
              "1. 1.30533311830974\n",
              "2. 1.28246610606043\n",
              "3. 1.27579591951333\n",
              "4. 1.26058966932631\n",
              "5. 1.25585791465525\n",
              "6. 1.24403031047868\n",
              "\n",
              "\n"
            ],
            "text/plain": [
              "[1] 1.305333 1.282466 1.275796 1.260590 1.255858 1.244030"
            ]
          },
          "metadata": {},
          "output_type": "display_data"
        }
      ],
      "source": [
        "head(pca1_1$sdev)\n",
        "head(pca2_1$sdev)"
      ]
    },
    {
      "cell_type": "markdown",
      "metadata": {},
      "source": [
        "Check the loading for the PCs"
      ]
    },
    {
      "cell_type": "code",
      "execution_count": 12,
      "metadata": {
        "colab": {
          "base_uri": "https://localhost:8080/",
          "height": 156
        },
        "id": "u4HYKsm4U82S",
        "outputId": "588d7df2-f062-4a62-a337-05cfd8443ff6",
        "vscode": {
          "languageId": "r"
        }
      },
      "outputs": [
        {
          "data": {
            "text/html": [
              "<style>\n",
              ".list-inline {list-style: none; margin:0; padding: 0}\n",
              ".list-inline>li {display: inline-block}\n",
              ".list-inline>li:not(:last-child)::after {content: \"\\00b7\"; padding: 0 .5ex}\n",
              "</style>\n",
              "<ol class=list-inline><li>0.00300192732994285</li><li>0.00702462508042318</li><li>0.131794853615775</li><li>-0.0391917003166611</li><li>0.144494578726583</li><li>0.071609386259946</li></ol>\n"
            ],
            "text/latex": [
              "\\begin{enumerate*}\n",
              "\\item 0.00300192732994285\n",
              "\\item 0.00702462508042318\n",
              "\\item 0.131794853615775\n",
              "\\item -0.0391917003166611\n",
              "\\item 0.144494578726583\n",
              "\\item 0.071609386259946\n",
              "\\end{enumerate*}\n"
            ],
            "text/markdown": [
              "1. 0.00300192732994285\n",
              "2. 0.00702462508042318\n",
              "3. 0.131794853615775\n",
              "4. -0.0391917003166611\n",
              "5. 0.144494578726583\n",
              "6. 0.071609386259946\n",
              "\n",
              "\n"
            ],
            "text/plain": [
              "[1]  0.003001927  0.007024625  0.131794854 -0.039191700  0.144494579\n",
              "[6]  0.071609386"
            ]
          },
          "metadata": {},
          "output_type": "display_data"
        },
        {
          "data": {
            "text/html": [
              "<style>\n",
              ".list-inline {list-style: none; margin:0; padding: 0}\n",
              ".list-inline>li {display: inline-block}\n",
              ".list-inline>li:not(:last-child)::after {content: \"\\00b7\"; padding: 0 .5ex}\n",
              "</style>\n",
              "<ol class=list-inline><li>0.00300192732994332</li><li>0.00702462508042213</li><li>0.131794853615774</li><li>-0.0391917003166629</li><li>0.144494578726584</li><li>0.0716093862599431</li></ol>\n"
            ],
            "text/latex": [
              "\\begin{enumerate*}\n",
              "\\item 0.00300192732994332\n",
              "\\item 0.00702462508042213\n",
              "\\item 0.131794853615774\n",
              "\\item -0.0391917003166629\n",
              "\\item 0.144494578726584\n",
              "\\item 0.0716093862599431\n",
              "\\end{enumerate*}\n"
            ],
            "text/markdown": [
              "1. 0.00300192732994332\n",
              "2. 0.00702462508042213\n",
              "3. 0.131794853615774\n",
              "4. -0.0391917003166629\n",
              "5. 0.144494578726584\n",
              "6. 0.0716093862599431\n",
              "\n",
              "\n"
            ],
            "text/plain": [
              "[1]  0.003001927  0.007024625  0.131794854 -0.039191700  0.144494579\n",
              "[6]  0.071609386"
            ]
          },
          "metadata": {},
          "output_type": "display_data"
        },
        {
          "data": {
            "text/html": [
              "<style>\n",
              ".list-inline {list-style: none; margin:0; padding: 0}\n",
              ".list-inline>li {display: inline-block}\n",
              ".list-inline>li:not(:last-child)::after {content: \"\\00b7\"; padding: 0 .5ex}\n",
              "</style>\n",
              "<ol class=list-inline><li>0.0853445453398627</li><li>-0.0291466303734104</li><li>-0.0154124563962038</li><li>-0.0472500086154392</li><li>0.0595885537914062</li><li>-0.123717876138005</li></ol>\n"
            ],
            "text/latex": [
              "\\begin{enumerate*}\n",
              "\\item 0.0853445453398627\n",
              "\\item -0.0291466303734104\n",
              "\\item -0.0154124563962038\n",
              "\\item -0.0472500086154392\n",
              "\\item 0.0595885537914062\n",
              "\\item -0.123717876138005\n",
              "\\end{enumerate*}\n"
            ],
            "text/markdown": [
              "1. 0.0853445453398627\n",
              "2. -0.0291466303734104\n",
              "3. -0.0154124563962038\n",
              "4. -0.0472500086154392\n",
              "5. 0.0595885537914062\n",
              "6. -0.123717876138005\n",
              "\n",
              "\n"
            ],
            "text/plain": [
              "[1]  0.08534455 -0.02914663 -0.01541246 -0.04725001  0.05958855 -0.12371788"
            ]
          },
          "metadata": {},
          "output_type": "display_data"
        },
        {
          "data": {
            "text/html": [
              "<style>\n",
              ".list-inline {list-style: none; margin:0; padding: 0}\n",
              ".list-inline>li {display: inline-block}\n",
              ".list-inline>li:not(:last-child)::after {content: \"\\00b7\"; padding: 0 .5ex}\n",
              "</style>\n",
              "<ol class=list-inline><li>-0.0853445453398618</li><li>0.0291466303734069</li><li>0.0154124563962119</li><li>0.0472500086154339</li><li>-0.0595885537914017</li><li>0.123717876138009</li></ol>\n"
            ],
            "text/latex": [
              "\\begin{enumerate*}\n",
              "\\item -0.0853445453398618\n",
              "\\item 0.0291466303734069\n",
              "\\item 0.0154124563962119\n",
              "\\item 0.0472500086154339\n",
              "\\item -0.0595885537914017\n",
              "\\item 0.123717876138009\n",
              "\\end{enumerate*}\n"
            ],
            "text/markdown": [
              "1. -0.0853445453398618\n",
              "2. 0.0291466303734069\n",
              "3. 0.0154124563962119\n",
              "4. 0.0472500086154339\n",
              "5. -0.0595885537914017\n",
              "6. 0.123717876138009\n",
              "\n",
              "\n"
            ],
            "text/plain": [
              "[1] -0.08534455  0.02914663  0.01541246  0.04725001 -0.05958855  0.12371788"
            ]
          },
          "metadata": {},
          "output_type": "display_data"
        }
      ],
      "source": [
        "head(pca1_1$loadings[,1])\n",
        "head(pca2_1$rotation[,1])\n",
        "head(pca1_1$loadings[,2])\n",
        "head(pca2_1$rotation[,2])"
      ]
    },
    {
      "cell_type": "markdown",
      "metadata": {},
      "source": [
        "## princomp requires n>p"
      ]
    },
    {
      "cell_type": "code",
      "execution_count": 13,
      "metadata": {
        "id": "zOfrAwK1U-UJ",
        "vscode": {
          "languageId": "r"
        }
      },
      "outputs": [],
      "source": [
        "p <- 10^2\n",
        "X <- matrix(rnorm(n*p), nrow=n)"
      ]
    },
    {
      "cell_type": "markdown",
      "metadata": {},
      "source": [
        "This will give an error"
      ]
    },
    {
      "cell_type": "code",
      "execution_count": 14,
      "metadata": {
        "id": "NJA3yGFoU__-",
        "vscode": {
          "languageId": "r"
        }
      },
      "outputs": [],
      "source": [
        "pca1 <- princomp(X, cor = FALSE) ## this one implements spectral decomposition for PCA"
      ]
    },
    {
      "cell_type": "code",
      "execution_count": 15,
      "metadata": {
        "id": "0nQCXGswVC0I",
        "vscode": {
          "languageId": "r"
        }
      },
      "outputs": [],
      "source": [
        "pca2 <- prcomp(X, center = TRUE, scale=FALSE) ## this one implements SVD for PCA"
      ]
    },
    {
      "cell_type": "markdown",
      "metadata": {},
      "source": [
        "## Image analysis\n",
        "\n",
        "This library is needed for mypar"
      ]
    },
    {
      "cell_type": "code",
      "execution_count": 17,
      "metadata": {
        "colab": {
          "base_uri": "https://localhost:8080/"
        },
        "id": "RI3q9ZO_VmhD",
        "outputId": "724fcc91-586a-48b4-c99e-6c0ea72537d8",
        "vscode": {
          "languageId": "r"
        }
      },
      "outputs": [
        {
          "name": "stderr",
          "output_type": "stream",
          "text": [
            "Installing package into ‘/usr/local/lib/R/site-library’\n",
            "(as ‘lib’ is unspecified)\n",
            "\n"
          ]
        }
      ],
      "source": [
        "\n",
        "install.packages(\"rafalib\")\n",
        "\n",
        "library(rafalib)"
      ]
    },
    {
      "cell_type": "markdown",
      "metadata": {},
      "source": [
        "You need to download  `one_digit3.RData` from blackboard and upload to colab."
      ]
    },
    {
      "cell_type": "code",
      "execution_count": 20,
      "metadata": {
        "id": "a4LKfV9iVLZP",
        "vscode": {
          "languageId": "r"
        }
      },
      "outputs": [],
      "source": [
        "load(file=\"one_digit3.RData\")"
      ]
    },
    {
      "cell_type": "markdown",
      "metadata": {},
      "source": [
        "The image is stored as a $28 \\times 28$ matrix, the range of each entry in the matrix is between 0 and 255"
      ]
    },
    {
      "cell_type": "code",
      "execution_count": 21,
      "metadata": {
        "colab": {
          "base_uri": "https://localhost:8080/"
        },
        "id": "dpyGOYCTV4oZ",
        "outputId": "9ccbd897-2658-4e20-a727-5a35a0494316",
        "vscode": {
          "languageId": "r"
        }
      },
      "outputs": [
        {
          "name": "stdout",
          "output_type": "stream",
          "text": [
            "[1] 28 28\n",
            "[1] 255\n",
            "[1] 0\n"
          ]
        }
      ],
      "source": [
        "print(dim(X))\n",
        "print(max(X))\n",
        "print(min(X))"
      ]
    },
    {
      "cell_type": "markdown",
      "metadata": {},
      "source": [
        "visualize the data. Black is 255, white is 0"
      ]
    },
    {
      "cell_type": "code",
      "execution_count": 22,
      "metadata": {
        "colab": {
          "base_uri": "https://localhost:8080/",
          "height": 437
        },
        "id": "8xT2xAV4V72G",
        "outputId": "087550a4-99f3-4411-dd71-1dfe433bc78f",
        "vscode": {
          "languageId": "r"
        }
      },
      "outputs": [
        {
          "data": {
            "image/png": "[encoded data removed]",
            "text/plain": [
              "Plot with title “Original”"
            ]
          },
          "metadata": {
            "image/png": {
              "height": 420,
              "width": 420
            }
          },
          "output_type": "display_data"
        }
      ],
      "source": [
        "image(1:28, 1:28, z=X, main=\"Original\", xlab=\"\", ylab=\"\", col=gray((255:0)/255))"
      ]
    },
    {
      "cell_type": "markdown",
      "metadata": {},
      "source": [
        "## SVD for image compression\n",
        "\n",
        "You can see that when nComp=5, visually the reconstruction is quite well. For X, you need to save $28 \\times 28=784$ numbers, for X_hat_svd (nComp=5), you need to save $28 \\times 5$ (U) + $5$ (d) + $28 \\times 5$ (V) = 285 numbers."
      ]
    },
    {
      "cell_type": "code",
      "execution_count": 25,
      "metadata": {
        "colab": {
          "base_uri": "https://localhost:8080/",
          "height": 437
        },
        "id": "JOMksru5V-bi",
        "outputId": "f0860f96-4d3e-49ef-b357-0dd673f800fb",
        "vscode": {
          "languageId": "r"
        }
      },
      "outputs": [
        {
          "data": {
            "image/png": "[encoded data removed]",
            "text/plain": [
              "Plot with title “rank=5”"
            ]
          },
          "metadata": {
            "image/png": {
              "height": 420,
              "width": 420
            }
          },
          "output_type": "display_data"
        }
      ],
      "source": [
        "X_svd <- svd(X)\n",
        "mypar(mfrow=c(2, 2))\n",
        "## the orignial image\n",
        "image(1:28, 1:28, z=X, main=\"Original\", xlab=\"\", ylab=\"\", col=gray((255:0)/255))\n",
        "\n",
        "nComp <- 1\n",
        "X_hat_svd <- X_svd$d[1:nComp]*( (X_svd$u)[,1:nComp]%*%t((X_svd$v)[,1:nComp]) )\n",
        "image(1:28, 1:28, z=X_hat_svd, main=paste(\"rank=\", nComp, sep=\"\"), xlab=\"\", ylab=\"\", col=gray((255:0)/255))\n",
        "\n",
        "nComp <- 2\n",
        "X_hat_svd <- (X_svd$u)[,1:nComp]%*%diag(X_svd$d[1:nComp])%*%t((X_svd$v)[,1:nComp])\n",
        "image(1:28, 1:28, z=X_hat_svd, main=paste(\"rank=\", nComp, sep=\"\"), xlab=\"\", ylab=\"\", col=gray((255:0)/255))\n",
        "\n",
        "nComp <- 5\n",
        "X_hat_svd <- (X_svd$u)[,1:nComp]%*%diag(X_svd$d[1:nComp])%*%t((X_svd$v)[,1:nComp])\n",
        "image(1:28, 1:28, z=X_hat_svd, main=paste(\"rank=\", nComp, sep=\"\"), xlab=\"\", ylab=\"\", col=gray((255:0)/255))\n",
        "\n",
        "\n",
        "\n",
        "\n",
        "\n",
        "\n",
        "\n"
      ]
    },
    {
      "cell_type": "markdown",
      "metadata": {},
      "source": [
        "more components. nComp=28 is the same as the original image"
      ]
    },
    {
      "cell_type": "code",
      "execution_count": 26,
      "metadata": {
        "colab": {
          "base_uri": "https://localhost:8080/",
          "height": 437
        },
        "id": "U6TU34VsWN9U",
        "outputId": "72b49aa7-1246-47ac-a8be-16daf39d232c",
        "vscode": {
          "languageId": "r"
        }
      },
      "outputs": [
        {
          "data": {
            "image/png": "[encoded data removed]",
            "text/plain": [
              "Plot with title “rank=28”"
            ]
          },
          "metadata": {
            "image/png": {
              "height": 420,
              "width": 420
            }
          },
          "output_type": "display_data"
        }
      ],
      "source": [
        "X_svd <- svd(X)\n",
        "mypar(mfrow=c(2, 2))\n",
        "## the orignial image\n",
        "image(1:28, 1:28, z=X, main=\"Original\", xlab=\"\", ylab=\"\", col=gray((255:0)/255))\n",
        "\n",
        "nComp <- 10\n",
        "X_hat_svd <- (X_svd$u)[,1:nComp]%*%diag(X_svd$d[1:nComp])%*%t((X_svd$v)[,1:nComp])\n",
        "image(1:28, 1:28, z=X_hat_svd, main=paste(\"rank=\", nComp, sep=\"\"), xlab=\"\", ylab=\"\", col=gray((255:0)/255))\n",
        "\n",
        "nComp <- 20\n",
        "X_hat_svd <- (X_svd$u)[,1:nComp]%*%diag(X_svd$d[1:nComp])%*%t((X_svd$v)[,1:nComp])\n",
        "image(1:28, 1:28, z=X_hat_svd, main=paste(\"rank=\", nComp, sep=\"\"), xlab=\"\", ylab=\"\", col=gray((255:0)/255))\n",
        "\n",
        "nComp <- 28\n",
        "X_hat_svd <- (X_svd$u)[,1:nComp]%*%diag(X_svd$d[1:nComp])%*%t((X_svd$v)[,1:nComp])\n",
        "image(1:28, 1:28, z=X_hat_svd, main=paste(\"rank=\", nComp, sep=\"\"), xlab=\"\", ylab=\"\", col=gray((255:0)/255))\n"
      ]
    },
    {
      "cell_type": "markdown",
      "metadata": {},
      "source": [
        "## PCA 1\n",
        "\n",
        "This should be exactly the same as SVD"
      ]
    },
    {
      "cell_type": "code",
      "execution_count": 27,
      "metadata": {
        "colab": {
          "base_uri": "https://localhost:8080/",
          "height": 437
        },
        "id": "nGTJAvmLWN_Y",
        "outputId": "8f490dbd-b874-43ab-ac5e-53a4271dd236",
        "vscode": {
          "languageId": "r"
        }
      },
      "outputs": [
        {
          "data": {
            "image/png": "[encoded data removed]",
            "text/plain": [
              "Plot with title “nPC=5”"
            ]
          },
          "metadata": {
            "image/png": {
              "height": 420,
              "width": 420
            }
          },
          "output_type": "display_data"
        }
      ],
      "source": [
        "n <- 28\n",
        "X_spectral1 <- eigen(1/(n-1)*t(X)%*%X) ## spectral decomposition\n",
        "\n",
        "mypar(mfrow=c(2, 2))\n",
        "## the orignial image\n",
        "image(1:28, 1:28, z=X, main=\"Original\", xlab=\"\", ylab=\"\", col=gray((255:0)/255))\n",
        "\n",
        "nPC <- 1\n",
        "X_hat_pca1 <- t( (X_spectral1$vectors)[,1:nPC]%*%t( (X_spectral1$vectors)[,1:nPC] ) %*% t(X) )\n",
        "image(1:28, 1:28, z=X_hat_pca1, main=paste(\"nPC=\", nPC, sep=\"\"), xlab=\"\", ylab=\"\", col=gray((255:0)/255))\n",
        "\n",
        "nPC <- 2\n",
        "X_hat_pca1 <- t( (X_spectral1$vectors)[,1:nPC]%*%t( (X_spectral1$vectors)[,1:nPC] ) %*% t(X) )\n",
        "image(1:28, 1:28, z=X_hat_pca1, main=paste(\"nPC=\", nPC, sep=\"\"), xlab=\"\", ylab=\"\", col=gray((255:0)/255))\n",
        "\n",
        "nPC <- 5\n",
        "X_hat_pca1 <- t( (X_spectral1$vectors)[,1:nPC]%*%t( (X_spectral1$vectors)[,1:nPC] ) %*% t(X) )\n",
        "image(1:28, 1:28, z=X_hat_pca1, main=paste(\"nPC=\", nPC, sep=\"\"), xlab=\"\", ylab=\"\", col=gray((255:0)/255))\n",
        "\n"
      ]
    },
    {
      "cell_type": "markdown",
      "metadata": {},
      "source": [
        "## PCA 2"
      ]
    },
    {
      "cell_type": "code",
      "execution_count": 28,
      "metadata": {
        "colab": {
          "base_uri": "https://localhost:8080/",
          "height": 437
        },
        "id": "7gJRm829WOBZ",
        "outputId": "fc75f739-018e-4567-99a4-bf56c34fee41",
        "vscode": {
          "languageId": "r"
        }
      },
      "outputs": [
        {
          "data": {
            "image/png": "[encoded data removed]",
            "text/plain": [
              "Plot with title “nPC=5”"
            ]
          },
          "metadata": {
            "image/png": {
              "height": 420,
              "width": 420
            }
          },
          "output_type": "display_data"
        }
      ],
      "source": [
        "X_bar <- colMeans(X)\n",
        "X_center <- t(t(X) - X_bar)\n",
        "X_spectral2 <- eigen(1/(n-1)*t(X_center)%*%X_center)\n",
        "mypar(mfrow=c(2, 2))\n",
        "image(1:28, 1:28, z=X, main=\"Original\", xlab=\"\", ylab=\"\", col=gray((255:0)/255))\n",
        "\n",
        "nPC <- 1\n",
        "X_hat_pca2 <- t( (X_spectral2$vectors)[,1:nPC]%*%t( (X_spectral2$vectors)[,1:nPC] ) %*% t(X_center) +  X_bar )\n",
        "image(1:28, 1:28, z=X_hat_pca2, main=paste(\"nPC=\", nPC, sep=\"\"), xlab=\"\", ylab=\"\", col=gray((255:0)/255))\n",
        "\n",
        "nPC <- 2\n",
        "X_hat_pca2 <- t( (X_spectral2$vectors)[,1:nPC]%*%t( (X_spectral2$vectors)[,1:nPC] ) %*% t(X_center) +  X_bar )\n",
        "image(1:28, 1:28, z=X_hat_pca2, main=paste(\"nPC=\", nPC, sep=\"\"), xlab=\"\", ylab=\"\", col=gray((255:0)/255))\n",
        "\n",
        "nPC <- 5\n",
        "X_hat_pca2 <- t( (X_spectral2$vectors)[,1:nPC]%*%t( (X_spectral2$vectors)[,1:nPC] ) %*% t(X_center) +  X_bar )\n",
        "image(1:28, 1:28, z=X_hat_pca2, main=paste(\"nPC=\", nPC, sep=\"\"), xlab=\"\", ylab=\"\", col=gray((255:0)/255))\n",
        "\n",
        "\n"
      ]
    },
    {
      "cell_type": "markdown",
      "metadata": {},
      "source": [
        "## now let's compare Sum of Squared Error (SSE) for image reconstruction\n",
        "\n",
        "There are two trends here. First, when nComp/nPC increase, SSE will decrease, which is consistent with our visual impression that more components lead to a better fit. Second, X_hat_pca2 always have smaller SSE compared with X_hat_pca1/X_hat_svd. Why? Because X_hat_pca2 has one more degree of freedom. As an analogy, X_hat_pca1 is like fitting a regression model with no intercept, i.e. $X\\beta$, and X_hat_pca2 is like fitting a regression model with intercept, i.e. $X\\beta + \\beta_0$.\n"
      ]
    },
    {
      "cell_type": "code",
      "execution_count": 29,
      "metadata": {
        "colab": {
          "base_uri": "https://localhost:8080/"
        },
        "id": "JdEx72AuWODz",
        "outputId": "688a0007-a724-4253-daeb-f521619af717",
        "vscode": {
          "languageId": "r"
        }
      },
      "outputs": [
        {
          "name": "stdout",
          "output_type": "stream",
          "text": [
            "[1] 2632550\n",
            "[1] 2632550\n",
            "[1] 2507799\n"
          ]
        }
      ],
      "source": [
        "nComp <- 1\n",
        "nPC <- 1\n",
        "X_hat_svd <- X_svd$d[1:nComp]*( (X_svd$u)[,1:nComp]%*%t((X_svd$v)[,1:nComp]) )\n",
        "X_hat_pca1 <- t( (X_spectral1$vectors)[,1:nPC]%*%t( (X_spectral1$vectors)[,1:nPC] ) %*% t(X) )\n",
        "X_hat_pca2 <- t( (X_spectral2$vectors)[,1:nPC]%*%t( (X_spectral2$vectors)[,1:nPC] ) %*% t(X_center) +  X_bar )\n",
        "print(sum((X - X_hat_svd)^2))\n",
        "print(sum((X - X_hat_pca1)^2))\n",
        "print(sum((X - X_hat_pca2)^2))"
      ]
    },
    {
      "cell_type": "code",
      "execution_count": 30,
      "metadata": {
        "colab": {
          "base_uri": "https://localhost:8080/"
        },
        "id": "9DT9Ezm_WE7J",
        "outputId": "65aeebc3-6e98-437f-9f01-95ca25029df3",
        "vscode": {
          "languageId": "r"
        }
      },
      "outputs": [
        {
          "name": "stdout",
          "output_type": "stream",
          "text": [
            "[1] 1285575\n",
            "[1] 1285575\n",
            "[1] 1225461\n"
          ]
        }
      ],
      "source": [
        "nComp <- 2\n",
        "nPC <- 2\n",
        "X_hat_svd <- (X_svd$u)[,1:nComp]%*%diag(X_svd$d[1:nComp])%*%t((X_svd$v)[,1:nComp])\n",
        "X_hat_pca1 <- t( (X_spectral1$vectors)[,1:nPC]%*%t( (X_spectral1$vectors)[,1:nPC] ) %*% t(X) )\n",
        "X_hat_pca2 <- t( (X_spectral2$vectors)[,1:nPC]%*%t( (X_spectral2$vectors)[,1:nPC] ) %*% t(X_center) +  X_bar )\n",
        "print(sum((X - X_hat_svd)^2))\n",
        "print(sum((X - X_hat_pca1)^2))\n",
        "print(sum((X - X_hat_pca2)^2))"
      ]
    },
    {
      "cell_type": "code",
      "execution_count": 31,
      "metadata": {
        "colab": {
          "base_uri": "https://localhost:8080/"
        },
        "id": "je_pjjw1WhmN",
        "outputId": "f1755fcd-6466-4e8f-e5c4-c3006e2b4b77",
        "vscode": {
          "languageId": "r"
        }
      },
      "outputs": [
        {
          "name": "stdout",
          "output_type": "stream",
          "text": [
            "[1] 188234.9\n",
            "[1] 188234.9\n",
            "[1] 186454\n"
          ]
        }
      ],
      "source": [
        "nComp <- 5\n",
        "nPC <- 5\n",
        "\n",
        "X_hat_svd <- (X_svd$u)[,1:nComp]%*%diag(X_svd$d[1:nComp])%*%t((X_svd$v)[,1:nComp])\n",
        "X_hat_pca1 <- t( (X_spectral1$vectors)[,1:nPC]%*%t( (X_spectral1$vectors)[,1:nPC] ) %*% t(X) )\n",
        "X_hat_pca2 <- t( (X_spectral2$vectors)[,1:nPC]%*%t( (X_spectral2$vectors)[,1:nPC] ) %*% t(X_center) +  X_bar )\n",
        "print(sum((X - X_hat_svd)^2))\n",
        "print(sum((X - X_hat_pca1)^2))\n",
        "print(sum((X - X_hat_pca2)^2))"
      ]
    }
  ],
  "metadata": {
    "colab": {
      "provenance": []
    },
    "kernelspec": {
      "display_name": "R",
      "name": "ir"
    },
    "language_info": {
      "name": "R"
    }
  },
  "nbformat": 4,
  "nbformat_minor": 0
}
